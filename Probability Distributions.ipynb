{
 "cells": [
  {
   "cell_type": "code",
   "execution_count": 3,
   "id": "34f36441",
   "metadata": {},
   "outputs": [],
   "source": [
    "import numpy as np\n",
    "import pandas as pd\n",
    "import seaborn as sns\n",
    "from scipy import stats \n",
    "from matplotlib import pyplot as plt"
   ]
  },
  {
   "cell_type": "code",
   "execution_count": 7,
   "id": "cbe80bcd",
   "metadata": {},
   "outputs": [],
   "source": [
    "data_bmw = pd.read_csv(r'I:\\Python\\dataSet\\ml\\cars\\bmw.csv')\n",
    "data_titanic = pd.read_csv(r'I:\\Python\\dataSet\\ml\\titanic\\train.csv')"
   ]
  },
  {
   "cell_type": "code",
   "execution_count": 8,
   "id": "5f3678f3",
   "metadata": {},
   "outputs": [
    {
     "data": {
      "text/html": [
       "<div>\n",
       "<style scoped>\n",
       "    .dataframe tbody tr th:only-of-type {\n",
       "        vertical-align: middle;\n",
       "    }\n",
       "\n",
       "    .dataframe tbody tr th {\n",
       "        vertical-align: top;\n",
       "    }\n",
       "\n",
       "    .dataframe thead th {\n",
       "        text-align: right;\n",
       "    }\n",
       "</style>\n",
       "<table border=\"1\" class=\"dataframe\">\n",
       "  <thead>\n",
       "    <tr style=\"text-align: right;\">\n",
       "      <th></th>\n",
       "      <th>model</th>\n",
       "      <th>year</th>\n",
       "      <th>price</th>\n",
       "      <th>transmission</th>\n",
       "      <th>mileage</th>\n",
       "      <th>fuelType</th>\n",
       "      <th>tax</th>\n",
       "      <th>mpg</th>\n",
       "      <th>engineSize</th>\n",
       "    </tr>\n",
       "  </thead>\n",
       "  <tbody>\n",
       "    <tr>\n",
       "      <th>0</th>\n",
       "      <td>5 Series</td>\n",
       "      <td>2014</td>\n",
       "      <td>11200</td>\n",
       "      <td>Automatic</td>\n",
       "      <td>67068</td>\n",
       "      <td>Diesel</td>\n",
       "      <td>125</td>\n",
       "      <td>57.6</td>\n",
       "      <td>2.0</td>\n",
       "    </tr>\n",
       "    <tr>\n",
       "      <th>1</th>\n",
       "      <td>6 Series</td>\n",
       "      <td>2018</td>\n",
       "      <td>27000</td>\n",
       "      <td>Automatic</td>\n",
       "      <td>14827</td>\n",
       "      <td>Petrol</td>\n",
       "      <td>145</td>\n",
       "      <td>42.8</td>\n",
       "      <td>2.0</td>\n",
       "    </tr>\n",
       "    <tr>\n",
       "      <th>2</th>\n",
       "      <td>5 Series</td>\n",
       "      <td>2016</td>\n",
       "      <td>16000</td>\n",
       "      <td>Automatic</td>\n",
       "      <td>62794</td>\n",
       "      <td>Diesel</td>\n",
       "      <td>160</td>\n",
       "      <td>51.4</td>\n",
       "      <td>3.0</td>\n",
       "    </tr>\n",
       "    <tr>\n",
       "      <th>3</th>\n",
       "      <td>1 Series</td>\n",
       "      <td>2017</td>\n",
       "      <td>12750</td>\n",
       "      <td>Automatic</td>\n",
       "      <td>26676</td>\n",
       "      <td>Diesel</td>\n",
       "      <td>145</td>\n",
       "      <td>72.4</td>\n",
       "      <td>1.5</td>\n",
       "    </tr>\n",
       "    <tr>\n",
       "      <th>4</th>\n",
       "      <td>7 Series</td>\n",
       "      <td>2014</td>\n",
       "      <td>14500</td>\n",
       "      <td>Automatic</td>\n",
       "      <td>39554</td>\n",
       "      <td>Diesel</td>\n",
       "      <td>160</td>\n",
       "      <td>50.4</td>\n",
       "      <td>3.0</td>\n",
       "    </tr>\n",
       "  </tbody>\n",
       "</table>\n",
       "</div>"
      ],
      "text/plain": [
       "       model  year  price transmission  mileage fuelType  tax   mpg  \\\n",
       "0   5 Series  2014  11200    Automatic    67068   Diesel  125  57.6   \n",
       "1   6 Series  2018  27000    Automatic    14827   Petrol  145  42.8   \n",
       "2   5 Series  2016  16000    Automatic    62794   Diesel  160  51.4   \n",
       "3   1 Series  2017  12750    Automatic    26676   Diesel  145  72.4   \n",
       "4   7 Series  2014  14500    Automatic    39554   Diesel  160  50.4   \n",
       "\n",
       "   engineSize  \n",
       "0         2.0  \n",
       "1         2.0  \n",
       "2         3.0  \n",
       "3         1.5  \n",
       "4         3.0  "
      ]
     },
     "metadata": {},
     "output_type": "display_data"
    },
    {
     "data": {
      "text/html": [
       "<div>\n",
       "<style scoped>\n",
       "    .dataframe tbody tr th:only-of-type {\n",
       "        vertical-align: middle;\n",
       "    }\n",
       "\n",
       "    .dataframe tbody tr th {\n",
       "        vertical-align: top;\n",
       "    }\n",
       "\n",
       "    .dataframe thead th {\n",
       "        text-align: right;\n",
       "    }\n",
       "</style>\n",
       "<table border=\"1\" class=\"dataframe\">\n",
       "  <thead>\n",
       "    <tr style=\"text-align: right;\">\n",
       "      <th></th>\n",
       "      <th>PassengerId</th>\n",
       "      <th>Survived</th>\n",
       "      <th>Pclass</th>\n",
       "      <th>Name</th>\n",
       "      <th>Sex</th>\n",
       "      <th>Age</th>\n",
       "      <th>SibSp</th>\n",
       "      <th>Parch</th>\n",
       "      <th>Ticket</th>\n",
       "      <th>Fare</th>\n",
       "      <th>Cabin</th>\n",
       "      <th>Embarked</th>\n",
       "    </tr>\n",
       "  </thead>\n",
       "  <tbody>\n",
       "    <tr>\n",
       "      <th>0</th>\n",
       "      <td>1</td>\n",
       "      <td>0</td>\n",
       "      <td>3</td>\n",
       "      <td>Braund, Mr. Owen Harris</td>\n",
       "      <td>male</td>\n",
       "      <td>22.0</td>\n",
       "      <td>1</td>\n",
       "      <td>0</td>\n",
       "      <td>A/5 21171</td>\n",
       "      <td>7.2500</td>\n",
       "      <td>NaN</td>\n",
       "      <td>S</td>\n",
       "    </tr>\n",
       "    <tr>\n",
       "      <th>1</th>\n",
       "      <td>2</td>\n",
       "      <td>1</td>\n",
       "      <td>1</td>\n",
       "      <td>Cumings, Mrs. John Bradley (Florence Briggs Th...</td>\n",
       "      <td>female</td>\n",
       "      <td>38.0</td>\n",
       "      <td>1</td>\n",
       "      <td>0</td>\n",
       "      <td>PC 17599</td>\n",
       "      <td>71.2833</td>\n",
       "      <td>C85</td>\n",
       "      <td>C</td>\n",
       "    </tr>\n",
       "    <tr>\n",
       "      <th>2</th>\n",
       "      <td>3</td>\n",
       "      <td>1</td>\n",
       "      <td>3</td>\n",
       "      <td>Heikkinen, Miss. Laina</td>\n",
       "      <td>female</td>\n",
       "      <td>26.0</td>\n",
       "      <td>0</td>\n",
       "      <td>0</td>\n",
       "      <td>STON/O2. 3101282</td>\n",
       "      <td>7.9250</td>\n",
       "      <td>NaN</td>\n",
       "      <td>S</td>\n",
       "    </tr>\n",
       "    <tr>\n",
       "      <th>3</th>\n",
       "      <td>4</td>\n",
       "      <td>1</td>\n",
       "      <td>1</td>\n",
       "      <td>Futrelle, Mrs. Jacques Heath (Lily May Peel)</td>\n",
       "      <td>female</td>\n",
       "      <td>35.0</td>\n",
       "      <td>1</td>\n",
       "      <td>0</td>\n",
       "      <td>113803</td>\n",
       "      <td>53.1000</td>\n",
       "      <td>C123</td>\n",
       "      <td>S</td>\n",
       "    </tr>\n",
       "    <tr>\n",
       "      <th>4</th>\n",
       "      <td>5</td>\n",
       "      <td>0</td>\n",
       "      <td>3</td>\n",
       "      <td>Allen, Mr. William Henry</td>\n",
       "      <td>male</td>\n",
       "      <td>35.0</td>\n",
       "      <td>0</td>\n",
       "      <td>0</td>\n",
       "      <td>373450</td>\n",
       "      <td>8.0500</td>\n",
       "      <td>NaN</td>\n",
       "      <td>S</td>\n",
       "    </tr>\n",
       "  </tbody>\n",
       "</table>\n",
       "</div>"
      ],
      "text/plain": [
       "   PassengerId  Survived  Pclass  \\\n",
       "0            1         0       3   \n",
       "1            2         1       1   \n",
       "2            3         1       3   \n",
       "3            4         1       1   \n",
       "4            5         0       3   \n",
       "\n",
       "                                                Name     Sex   Age  SibSp  \\\n",
       "0                            Braund, Mr. Owen Harris    male  22.0      1   \n",
       "1  Cumings, Mrs. John Bradley (Florence Briggs Th...  female  38.0      1   \n",
       "2                             Heikkinen, Miss. Laina  female  26.0      0   \n",
       "3       Futrelle, Mrs. Jacques Heath (Lily May Peel)  female  35.0      1   \n",
       "4                           Allen, Mr. William Henry    male  35.0      0   \n",
       "\n",
       "   Parch            Ticket     Fare Cabin Embarked  \n",
       "0      0         A/5 21171   7.2500   NaN        S  \n",
       "1      0          PC 17599  71.2833   C85        C  \n",
       "2      0  STON/O2. 3101282   7.9250   NaN        S  \n",
       "3      0            113803  53.1000  C123        S  \n",
       "4      0            373450   8.0500   NaN        S  "
      ]
     },
     "metadata": {},
     "output_type": "display_data"
    }
   ],
   "source": [
    "display(data_bmw.head())\n",
    "display(data_titanic.head())"
   ]
  },
  {
   "cell_type": "markdown",
   "id": "61f7152a",
   "metadata": {},
   "source": [
    "#  Bernoulli Distribution"
   ]
  },
  {
   "cell_type": "markdown",
   "id": "6dfc283b",
   "metadata": {},
   "source": [
    "* This distribution is related to Binary classification . (i.e What is the probability that this person is sick or not? Or what is the probability that this customer will buy the product or not and so on)\n",
    "#### Example:\n",
    "* In titanic dataset we want to know What is the probability that a person on the ship will survive?"
   ]
  },
  {
   "cell_type": "code",
   "execution_count": 67,
   "id": "cd89ebac",
   "metadata": {},
   "outputs": [
    {
     "data": {
      "image/png": "[encoded data removed]",
      "text/plain": [
       "<Figure size 432x288 with 1 Axes>"
      ]
     },
     "metadata": {
      "needs_background": "light"
     },
     "output_type": "display_data"
    }
   ],
   "source": [
    "data_survive = data_titanic['Survived'].value_counts(normalize=True)\n",
    "fig, ax = plt.subplots()\n",
    "sns.barplot(x=data_survive.index, y=data_survive.values)\n",
    "for i, v in enumerate(data_survive):\n",
    "    ax.text(i, v+0.002, round(v, 2), fontweight='bold')\n",
    "plt.show() "
   ]
  },
  {
   "cell_type": "markdown",
   "id": "aa0b6054",
   "metadata": {},
   "source": [
    "# Binomial distribution"
   ]
  },
  {
   "attachments": {
    "download.png": {
     "image/png": "[encoded data removed]"
    }
   },
   "cell_type": "markdown",
   "id": "ef35c271",
   "metadata": {},
   "source": [
    "* Binomial distribution is one of the most popular distributions in statistics, along with normal distribution. Binomial distribution is a discrete probability distribution of a number of successes (X) in a sequence of independent experiments (n). Each experiment has two possible outcomes: success and failure. Success outcome has a probability p, and failure has probability (1−p). \n",
    " #### Example:\n",
    "* What is the probability of finding 1 or more men in the sample?\n",
    "* First you must calculate the probability of men and this parameter (p) then assume number of (x) from 0 to 5 and assume your n = 10 .\n",
    "![download.png](attachment:download.png)"
   ]
  },
  {
   "cell_type": "code",
   "execution_count": 11,
   "id": "239245e7",
   "metadata": {},
   "outputs": [
    {
     "data": {
      "text/plain": [
       "female    0.681287\n",
       "male      0.318713\n",
       "Name: Sex, dtype: float64"
      ]
     },
     "execution_count": 11,
     "metadata": {},
     "output_type": "execute_result"
    }
   ],
   "source": [
    "data_men = data_titanic[data_titanic['Survived'] == 1]\n",
    "data_men['Sex'].value_counts(normalize=True)\n",
    "# The probalbbility of female in data is 0.681287 and male is 0.318713"
   ]
  },
  {
   "cell_type": "code",
   "execution_count": 48,
   "id": "6b441a2b",
   "metadata": {},
   "outputs": [
    {
     "data": {
      "image/png": "[encoded data removed]",
      "text/plain": [
       "<Figure size 432x432 with 1 Axes>"
      ]
     },
     "metadata": {
      "needs_background": "light"
     },
     "output_type": "display_data"
    }
   ],
   "source": [
    "# Parameters of equation\n",
    "p = 0.318\n",
    "n = 10\n",
    "x = np.arange(0, 6)\n",
    "# Probability mass function (a function that gives the probability that a discrete random variable is exactly equal to some value)\n",
    "pmf_men = stats.binom.pmf(k = x, n = n, p = p)\n",
    "# plot the result\n",
    "# plt.bar(x, pmf_men)\n",
    "fig, ax = plt.subplots(figsize=(6,6))\n",
    "g = sns.barplot(x=x, y=pmf_men)\n",
    "for i, v in enumerate(pmf_men):\n",
    "    ax.text(i, v + .002, round(v, 2), fontweight='bold')\n",
    "g.set_title('The probability of finding men from 0 to 5')\n",
    "plt.show()\n",
    "# The probability of finding men from 0 to 5 "
   ]
  },
  {
   "cell_type": "markdown",
   "id": "e32e74c9",
   "metadata": {},
   "source": [
    "# Poisson Distribution"
   ]
  },
  {
   "attachments": {
    "download%20%281%29.png": {
     "image/png": "[encoded data removed]"
    }
   },
   "cell_type": "markdown",
   "id": "d17850ca",
   "metadata": {},
   "source": [
    "* It is a probability disceret distribution that is used to show how many times an event is likely to occur over a specified period.\n",
    "![download%20%281%29.png](attachment:download%20%281%29.png)\n",
    "#### Example 1:\n",
    "* A store sells 3 apples per day on average. What is the probability that they will sell 5 apples on a given day?  in this case we will use the Poisson distribution\n",
    "#### Example 2:\n",
    "* A certain store sells 15 cans of tuna per day on average. What is the probability that this store sells more than 20 cans of tuna in a given day?"
   ]
  },
  {
   "cell_type": "code",
   "execution_count": 82,
   "id": "f5d1b951",
   "metadata": {},
   "outputs": [
    {
     "name": "stdout",
     "output_type": "stream",
     "text": [
      "[0.04978707 0.14936121 0.22404181 0.22404181 0.16803136 0.10081881]\n"
     ]
    },
    {
     "data": {
      "image/png": "[encoded data removed]",
      "text/plain": [
       "<Figure size 432x288 with 1 Axes>"
      ]
     },
     "metadata": {
      "needs_background": "light"
     },
     "output_type": "display_data"
    }
   ],
   "source": [
    "mu = 3\n",
    "x = np.arange(0, 6)\n",
    "pmf_poisson = stats.poisson.pmf(x, mu = mu)\n",
    "print(pmf_poisson)\n",
    "plt.plot(x, pmf_poisson, 'o', ms=12)\n",
    "plt.vlines(x, 0 , pmf_poisson , colors='Black' , lw = 3)\n",
    "plt.show()"
   ]
  },
  {
   "cell_type": "code",
   "execution_count": 109,
   "id": "7db3b3db",
   "metadata": {},
   "outputs": [
    {
     "name": "stdout",
     "output_type": "stream",
     "text": [
      "[0.99999969 0.99999511 0.99996069 0.99978862 0.99914336 0.99720757\n",
      " 0.9923681  0.98199781 0.96255351 0.93014634 0.88153559 0.8152482\n",
      " 0.73238897 0.63678216 0.53434629 0.43191042 0.3358768  0.25114125\n",
      " 0.18052829 0.12478122 0.08297091]\n"
     ]
    },
    {
     "data": {
      "image/png": "[encoded data removed]",
      "text/plain": [
       "<Figure size 432x288 with 1 Axes>"
      ]
     },
     "metadata": {
      "needs_background": "light"
     },
     "output_type": "display_data"
    }
   ],
   "source": [
    "mu = 15\n",
    "x = np.arange(0, 21)\n",
    "pmf_poisson = 1 - stats.poisson.cdf( k = x, mu = mu)\n",
    "print(pmf_poisson)\n",
    "plt.plot(x, pmf_poisson)\n",
    "plt.show()"
   ]
  },
  {
   "cell_type": "markdown",
   "id": "d03590cb",
   "metadata": {},
   "source": [
    "# Exponential Distribution"
   ]
  },
  {
   "cell_type": "markdown",
   "id": "6d8889c2",
   "metadata": {},
   "source": [
    "* The probability of time between Poisson events. \n",
    "# F(x; λ) = 1 – e-λx\n",
    "##### where:\n",
    " * λ: the rate parameter (calculated as λ = 1/μ)\n",
    " * e: A constant roughly equal to 2.718\n",
    "#### Example:\n",
    "* Suppose the mean number of minutes between eruptions for a certain geyser is 40 minutes. What is the probability that we’ll have to wait less than 50 minutes for an eruption?"
   ]
  },
  {
   "cell_type": "code",
   "execution_count": 115,
   "id": "045f680a",
   "metadata": {},
   "outputs": [
    {
     "name": "stdout",
     "output_type": "stream",
     "text": [
      "The probability that we’ll have to wait less than 50 minutes for the next eruption is [0.         0.02469009 0.04877058 0.07225651 0.09516258 0.1175031\n",
      " 0.13929202 0.16054298 0.18126925 0.20148378 0.22119922 0.24042788\n",
      " 0.25918178 0.27747265 0.29531191 0.31271072 0.32967995 0.34623021\n",
      " 0.36237185 0.37811494 0.39346934 0.40844464 0.42305019 0.43729513\n",
      " 0.45118836 0.46473857 0.47795422 0.49084358 0.5034147  0.51567543\n",
      " 0.52763345 0.53929622 0.55067104 0.56176501 0.57258507 0.58313798\n",
      " 0.59343034 0.60346858 0.61325898 0.62280765 0.63212056 0.64120353\n",
      " 0.65006225 0.65870224 0.66712892 0.67534753 0.68336323 0.69118102\n",
      " 0.69880579 0.7062423 ]\n"
     ]
    },
    {
     "data": {
      "image/png": "[encoded data removed]",
      "text/plain": [
       "<Figure size 432x288 with 1 Axes>"
      ]
     },
     "metadata": {
      "needs_background": "light"
     },
     "output_type": "display_data"
    }
   ],
   "source": [
    "mu = 40\n",
    "x = np.arange(50)\n",
    "cdf_expon = stats.expon.cdf(x = x, scale = mu)\n",
    "print(f'The probability that we’ll have to wait less than 50 minutes for the next eruption is {cdf_expon}')\n",
    "plt.plot(x,cdf_expon)\n",
    "plt.ylabel('The probability')\n",
    "plt.xlabel('Time from 0 to 50 minutes')\n",
    "plt.show()"
   ]
  },
  {
   "cell_type": "markdown",
   "id": "b43d5527",
   "metadata": {},
   "source": [
    "# Normal Distribution"
   ]
  },
  {
   "cell_type": "markdown",
   "id": "68f35ce8",
   "metadata": {},
   "source": [
    "* The normal distribution is a continuous probability distribution that is symmetrical around its mean, most of the observations cluster around the central peak. in Normal distribution the mean is equal to median . it's also known as the Gaussian distribution.\n",
    "#### Example 1:\n",
    "* In titanic data we need to know :What is the percentage of people age less than 20?\n",
    "#### Example 2:\n",
    "* In titanic data we need to know :What is 65% of ages from people?"
   ]
  },
  {
   "cell_type": "code",
   "execution_count": 200,
   "id": "66343521",
   "metadata": {
    "scrolled": true
   },
   "outputs": [
    {
     "name": "stdout",
     "output_type": "stream",
     "text": [
      "0.6424111732357382\n"
     ]
    },
    {
     "data": {
      "image/png": "[encoded data removed]",
      "text/plain": [
       "<Figure size 432x288 with 1 Axes>"
      ]
     },
     "metadata": {
      "needs_background": "light"
     },
     "output_type": "display_data"
    }
   ],
   "source": [
    "data_age = data_titanic['Age']\n",
    "mean = data_age.mean()\n",
    "std = data_age.std()\n",
    "\n",
    "norm_age_cdf = stats.norm.cdf(35, mean, std)\n",
    "print(norm_age_cdf)\n",
    "\n",
    "sns.set_palette('OrRd_r')\n",
    "sns.histplot(data_age, kde=True)\n",
    "plt.show()"
   ]
  },
  {
   "cell_type": "code",
   "execution_count": 202,
   "id": "97ee6702",
   "metadata": {},
   "outputs": [
    {
     "name": "stdout",
     "output_type": "stream",
     "text": [
      "35.29647437442206\n"
     ]
    }
   ],
   "source": [
    "norm_age_ppf = stats.norm.ppf(0.65, mean, std)\n",
    "print(norm_age_ppf)"
   ]
  }
 ],
 "metadata": {
  "kernelspec": {
   "display_name": "Python 3 (ipykernel)",
   "language": "python",
   "name": "python3"
  },
  "language_info": {
   "codemirror_mode": {
    "name": "ipython",
    "version": 3
   },
   "file_extension": ".py",
   "mimetype": "text/x-python",
   "name": "python",
   "nbconvert_exporter": "python",
   "pygments_lexer": "ipython3",
   "version": "3.8.13"
  }
 },
 "nbformat": 4,
 "nbformat_minor": 5
}
